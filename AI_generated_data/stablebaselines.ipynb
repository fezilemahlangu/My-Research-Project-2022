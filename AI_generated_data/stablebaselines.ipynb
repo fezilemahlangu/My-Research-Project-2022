{
 "cells": [
  {
   "cell_type": "markdown",
   "metadata": {},
   "source": [
    "To accept/reject our fourth hypothesis, we will collect AI generated data and compare the performance to human generated data. \n",
    "\n",
    "References:\n",
    "\n",
    "        [Hill et al. 2018] Ashley Hill, Antonin Raffin, Maximilian Ernestus, Adam Gleave, Anssi\n",
    "        Kanervisto, Rene Traore, Prafulla Dhariwal, Christopher Hesse, Oleg Klimov, Alex\n",
    "        Nichol, Matthias Plappert, Alec Radford, John Schulman, Szymon Sidor, and\n",
    "        Yuhuai Wu. Stable Baselines. https://github.com/hill-a/stable-baselines,\n",
    "        2018.\n",
    "\n",
    "\n",
    "        https://stable-baselines.readthedocs.io/en/master/guide/examples.html\n",
    "\n",
    "(this is ran in colab)\n"
   ]
  },
  {
   "cell_type": "code",
   "execution_count": null,
   "metadata": {},
   "outputs": [],
   "source": [
    "#imports \n",
    "\n",
    "import gym\n",
    "from stable_baselines.common.cmd_util import make_atari_env\n",
    "from stable_baselines import DQN\n",
    "from stable_baselines.common.evaluation import evaluate_policy\n",
    "from stable_baselines.common.vec_env import VecFrameStack\n",
    "from stable_baselines import ACER"
   ]
  },
  {
   "cell_type": "code",
   "execution_count": null,
   "metadata": {},
   "outputs": [],
   "source": [
    "# Create environment\n",
    "env = make_atari_env('PongNoFrameskip-v4', num_env=4, seed=0)\n",
    "env = VecFrameStack(env, n_stack=4)\n",
    "\n",
    "# Instantiate the agent\n",
    "model = ACER('CnnPolicy', env, verbose=1)\n",
    "# Train the agent\n",
    "model.learn(total_timesteps=25000)\n",
    "\n",
    "\n",
    "# trained agent\n",
    "obs = env.reset()\n",
    "for i in range(1000):\n",
    "    action, _states = model.predict(obs)\n",
    "    obs, rewards, dones, info = env.step(action)\n",
    "    env.render()"
   ]
  }
 ],
 "metadata": {
  "kernelspec": {
   "display_name": "Python 3.9.5 64-bit",
   "language": "python",
   "name": "python3"
  },
  "language_info": {
   "name": "python",
   "version": "3.9.5"
  },
  "orig_nbformat": 4,
  "vscode": {
   "interpreter": {
    "hash": "81794d4967e6c3204c66dcd87b604927b115b27c00565d3d43f05ba2f3a2cb0d"
   }
  }
 },
 "nbformat": 4,
 "nbformat_minor": 2
}
