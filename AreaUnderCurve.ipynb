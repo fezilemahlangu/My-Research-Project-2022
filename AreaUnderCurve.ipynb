{
  "nbformat": 4,
  "nbformat_minor": 0,
  "metadata": {
    "colab": {
      "provenance": [],
      "authorship_tag": "ABX9TyN2GuyvkIsEswpKCjOuRzZR",
      "include_colab_link": true
    },
    "kernelspec": {
      "name": "python3",
      "display_name": "Python 3"
    },
    "language_info": {
      "name": "python"
    }
  },
  "cells": [
    {
      "cell_type": "markdown",
      "metadata": {
        "id": "view-in-github",
        "colab_type": "text"
      },
      "source": [
        "<a href=\"https://colab.research.google.com/github/fezilemahlangu/My-Research-Project-2022/blob/main/AreaUnderCurve.ipynb\" target=\"_parent\"><img src=\"https://colab.research.google.com/assets/colab-badge.svg\" alt=\"Open In Colab\"/></a>"
      ]
    },
    {
      "cell_type": "code",
      "execution_count": 1,
      "metadata": {
        "id": "R1zhFeD3DzBG"
      },
      "outputs": [],
      "source": [
        "import numpy as np\n",
        "import pandas as pd \n",
        "import csv \n",
        "# import numpy as np\n",
        "import matplotlib.pyplot as plt\n",
        "from matplotlib.patches import Polygon\n",
        "\n",
        "import numpy as np\n",
        "from scipy.integrate import simpson\n",
        "from numpy import trapz\n",
        "from sklearn.metrics import auc\n",
        "\n",
        "# https://www.mathsisfun.com/data/correlation-calculator.html\n"
      ]
    },
    {
      "cell_type": "code",
      "source": [
        "# The y values.  A numpy array is used here,\n",
        "# but a python list could also be used.\n",
        "x = [10, 20, 30, 40, 50, 60, 70, 100]\n",
        "\n",
        "y = [-2.3, 2.5, 2.7, 1.5, 1.6, 2.1, 2.2, 5.5]\n",
        "\n",
        "# y = np.array([5, 20, 4, 18, 19, 18, 7, 4])\n",
        "\n",
        "# Compute the area using the composite trapezoidal rule.\n",
        "area = trapz(x, y)\n",
        "print(\"area trapz =\", area)\n",
        "\n",
        "\n",
        "\n",
        "# Compute the area using the composite Simpson's rule.\n",
        "area = simpson(x, y)\n",
        "print(\"area simpson =\", area)"
      ],
      "metadata": {
        "colab": {
          "base_uri": "https://localhost:8080/"
        },
        "id": "Q0MyG3MCJOpP",
        "outputId": "e55401ee-def6-43e8-a877-1088311b6e65"
      },
      "execution_count": null,
      "outputs": [
        {
          "output_type": "stream",
          "name": "stdout",
          "text": [
            "area trapz = 354.0\n",
            "area simpson = 339.93686868686865\n"
          ]
        }
      ]
    },
    {
      "cell_type": "code",
      "source": [
        "y = np.array([5, 20, 4, 18, 19, 18, 7, 4])\n",
        "\n",
        "# Compute the area using the composite trapezoidal rule.\n",
        "area = np.trapz(y, dx=5)\n",
        "print(\"area =\", area) # area = 452\n",
        "\n",
        "\n",
        "from scipy.integrate import simps\n",
        "\n",
        "y = np.array([5, 20, 4, 18, 20, 18, 3, 4])\n",
        "output = np.trapz(y)\n",
        "\n",
        "print(\"trapz() Output : \",output)\n",
        "\n",
        "# simps\n",
        "\n",
        "arr = np.array([5, 20, 4, 18, 20, 18, 3, 4])\n",
        "\n",
        "output = simps(arr)\n",
        "print(\"simps() output =\", output)\n",
        "\n",
        "# trapz() Output :  87.5\n",
        "# simps() output = 88.66666666666666"
      ],
      "metadata": {
        "colab": {
          "base_uri": "https://localhost:8080/"
        },
        "id": "BGca7GJ8EY4t",
        "outputId": "6557fec3-3342-4a3c-924f-60ecd5dacecb"
      },
      "execution_count": 4,
      "outputs": [
        {
          "output_type": "stream",
          "name": "stdout",
          "text": [
            "area = 452.5\n",
            "trapz() Output :  87.5\n",
            "simps() output = 88.66666666666666\n"
          ]
        }
      ]
    },
    {
      "cell_type": "code",
      "source": [
        "import numpy as np\n",
        "from sklearn.metrics import auc\n",
        "\n",
        "x = [10, 20, 30, 40, 50, 60, 70, 100]\n",
        "\n",
        "y= [-2.3, 2.5, 2.7, 1.5, 1.6, 2.1, 2.2, 5.5]\n",
        "\n",
        "print('computed AUC using sklearn.metrics.auc: {}'.format(auc(x,y)))\n",
        "print('computed AUC using np.trapz: {}'.format(np.trapz(x,y)))"
      ],
      "metadata": {
        "colab": {
          "base_uri": "https://localhost:8080/"
        },
        "id": "A-IaXt3-J2ip",
        "outputId": "55d51470-9213-4cc4-c438-8191ebfe2bcf"
      },
      "execution_count": 2,
      "outputs": [
        {
          "output_type": "stream",
          "name": "stdout",
          "text": [
            "computed AUC using sklearn.metrics.auc: 219.0\n",
            "computed AUC using np.trapz: 354.0\n"
          ]
        }
      ]
    },
    {
      "cell_type": "code",
      "source": [
        "df_models = pd.read_csv('models_phase2.csv')\n",
        "display(df_models)\n",
        "\n",
        "df_rewards = pd.read_csv('results_phase2.csv')\n",
        "display(df_rewards)"
      ],
      "metadata": {
        "id": "h9UkGSAPL9RF",
        "colab": {
          "base_uri": "https://localhost:8080/",
          "height": 583
        },
        "outputId": "eadb7e18-def7-43b9-c0f9-84899c485074"
      },
      "execution_count": null,
      "outputs": [
        {
          "output_type": "display_data",
          "data": {
            "text/plain": [
              "                                              models\n",
              "0     [[16, 1, 1, 2, 0.05, 32, 0.05, 0.001], [], []]\n",
              "1    [[16, 8, 1, 2, 0.05, 128, 0.1, 0.0001], [], []]\n",
              "2    [[16, 3, 1, 2, 0.05, 128, 0.25, 1e-05], [], []]\n",
              "3  [[32, 3, 1, 2, 0.05, 256, 0.05, 0.0001], [32, ...\n",
              "4  [[16, 5, 1, 2, 0.05, 128, 0.05, 0.01], [16, 7,...\n",
              "5  [[16, 7, 1, 2, 0.05, 256, 0.05, 0.003], [32, 3...\n",
              "6  [[16, 7, 4, 1, 0.05, 256, 0.05, 0.001], [32, 4...\n",
              "7  [[32, 8, 4, 1, 0.05, 256, 0.05, 0.1], [64, 4, ..."
            ],
            "text/html": [
              "\n",
              "  <div id=\"df-9a9a4746-5df9-4c85-b971-4cdc64668dd1\">\n",
              "    <div class=\"colab-df-container\">\n",
              "      <div>\n",
              "<style scoped>\n",
              "    .dataframe tbody tr th:only-of-type {\n",
              "        vertical-align: middle;\n",
              "    }\n",
              "\n",
              "    .dataframe tbody tr th {\n",
              "        vertical-align: top;\n",
              "    }\n",
              "\n",
              "    .dataframe thead th {\n",
              "        text-align: right;\n",
              "    }\n",
              "</style>\n",
              "<table border=\"1\" class=\"dataframe\">\n",
              "  <thead>\n",
              "    <tr style=\"text-align: right;\">\n",
              "      <th></th>\n",
              "      <th>models</th>\n",
              "    </tr>\n",
              "  </thead>\n",
              "  <tbody>\n",
              "    <tr>\n",
              "      <th>0</th>\n",
              "      <td>[[16, 1, 1, 2, 0.05, 32, 0.05, 0.001], [], []]</td>\n",
              "    </tr>\n",
              "    <tr>\n",
              "      <th>1</th>\n",
              "      <td>[[16, 8, 1, 2, 0.05, 128, 0.1, 0.0001], [], []]</td>\n",
              "    </tr>\n",
              "    <tr>\n",
              "      <th>2</th>\n",
              "      <td>[[16, 3, 1, 2, 0.05, 128, 0.25, 1e-05], [], []]</td>\n",
              "    </tr>\n",
              "    <tr>\n",
              "      <th>3</th>\n",
              "      <td>[[32, 3, 1, 2, 0.05, 256, 0.05, 0.0001], [32, ...</td>\n",
              "    </tr>\n",
              "    <tr>\n",
              "      <th>4</th>\n",
              "      <td>[[16, 5, 1, 2, 0.05, 128, 0.05, 0.01], [16, 7,...</td>\n",
              "    </tr>\n",
              "    <tr>\n",
              "      <th>5</th>\n",
              "      <td>[[16, 7, 1, 2, 0.05, 256, 0.05, 0.003], [32, 3...</td>\n",
              "    </tr>\n",
              "    <tr>\n",
              "      <th>6</th>\n",
              "      <td>[[16, 7, 4, 1, 0.05, 256, 0.05, 0.001], [32, 4...</td>\n",
              "    </tr>\n",
              "    <tr>\n",
              "      <th>7</th>\n",
              "      <td>[[32, 8, 4, 1, 0.05, 256, 0.05, 0.1], [64, 4, ...</td>\n",
              "    </tr>\n",
              "  </tbody>\n",
              "</table>\n",
              "</div>\n",
              "      <button class=\"colab-df-convert\" onclick=\"convertToInteractive('df-9a9a4746-5df9-4c85-b971-4cdc64668dd1')\"\n",
              "              title=\"Convert this dataframe to an interactive table.\"\n",
              "              style=\"display:none;\">\n",
              "        \n",
              "  <svg xmlns=\"http://www.w3.org/2000/svg\" height=\"24px\"viewBox=\"0 0 24 24\"\n",
              "       width=\"24px\">\n",
              "    <path d=\"M0 0h24v24H0V0z\" fill=\"none\"/>\n",
              "    <path d=\"M18.56 5.44l.94 2.06.94-2.06 2.06-.94-2.06-.94-.94-2.06-.94 2.06-2.06.94zm-11 1L8.5 8.5l.94-2.06 2.06-.94-2.06-.94L8.5 2.5l-.94 2.06-2.06.94zm10 10l.94 2.06.94-2.06 2.06-.94-2.06-.94-.94-2.06-.94 2.06-2.06.94z\"/><path d=\"M17.41 7.96l-1.37-1.37c-.4-.4-.92-.59-1.43-.59-.52 0-1.04.2-1.43.59L10.3 9.45l-7.72 7.72c-.78.78-.78 2.05 0 2.83L4 21.41c.39.39.9.59 1.41.59.51 0 1.02-.2 1.41-.59l7.78-7.78 2.81-2.81c.8-.78.8-2.07 0-2.86zM5.41 20L4 18.59l7.72-7.72 1.47 1.35L5.41 20z\"/>\n",
              "  </svg>\n",
              "      </button>\n",
              "      \n",
              "  <style>\n",
              "    .colab-df-container {\n",
              "      display:flex;\n",
              "      flex-wrap:wrap;\n",
              "      gap: 12px;\n",
              "    }\n",
              "\n",
              "    .colab-df-convert {\n",
              "      background-color: #E8F0FE;\n",
              "      border: none;\n",
              "      border-radius: 50%;\n",
              "      cursor: pointer;\n",
              "      display: none;\n",
              "      fill: #1967D2;\n",
              "      height: 32px;\n",
              "      padding: 0 0 0 0;\n",
              "      width: 32px;\n",
              "    }\n",
              "\n",
              "    .colab-df-convert:hover {\n",
              "      background-color: #E2EBFA;\n",
              "      box-shadow: 0px 1px 2px rgba(60, 64, 67, 0.3), 0px 1px 3px 1px rgba(60, 64, 67, 0.15);\n",
              "      fill: #174EA6;\n",
              "    }\n",
              "\n",
              "    [theme=dark] .colab-df-convert {\n",
              "      background-color: #3B4455;\n",
              "      fill: #D2E3FC;\n",
              "    }\n",
              "\n",
              "    [theme=dark] .colab-df-convert:hover {\n",
              "      background-color: #434B5C;\n",
              "      box-shadow: 0px 1px 3px 1px rgba(0, 0, 0, 0.15);\n",
              "      filter: drop-shadow(0px 1px 2px rgba(0, 0, 0, 0.3));\n",
              "      fill: #FFFFFF;\n",
              "    }\n",
              "  </style>\n",
              "\n",
              "      <script>\n",
              "        const buttonEl =\n",
              "          document.querySelector('#df-9a9a4746-5df9-4c85-b971-4cdc64668dd1 button.colab-df-convert');\n",
              "        buttonEl.style.display =\n",
              "          google.colab.kernel.accessAllowed ? 'block' : 'none';\n",
              "\n",
              "        async function convertToInteractive(key) {\n",
              "          const element = document.querySelector('#df-9a9a4746-5df9-4c85-b971-4cdc64668dd1');\n",
              "          const dataTable =\n",
              "            await google.colab.kernel.invokeFunction('convertToInteractive',\n",
              "                                                     [key], {});\n",
              "          if (!dataTable) return;\n",
              "\n",
              "          const docLinkHtml = 'Like what you see? Visit the ' +\n",
              "            '<a target=\"_blank\" href=https://colab.research.google.com/notebooks/data_table.ipynb>data table notebook</a>'\n",
              "            + ' to learn more about interactive tables.';\n",
              "          element.innerHTML = '';\n",
              "          dataTable['output_type'] = 'display_data';\n",
              "          await google.colab.output.renderOutput(dataTable, element);\n",
              "          const docLink = document.createElement('div');\n",
              "          docLink.innerHTML = docLinkHtml;\n",
              "          element.appendChild(docLink);\n",
              "        }\n",
              "      </script>\n",
              "    </div>\n",
              "  </div>\n",
              "  "
            ]
          },
          "metadata": {}
        },
        {
          "output_type": "display_data",
          "data": {
            "text/plain": [
              "                                             rewards\n",
              "0  [16.67, 13.68, 14.48, 14.87, 15.92, 13.9, 13.4...\n",
              "1  [24.44, 25.79, 23.1, 22.05, 24.9, 23.39, 23.62...\n",
              "2  [25.56, 25.79, 23.1, 20.26, 19.39, 20.0, 19.28...\n",
              "3  [22.22, 16.32, 14.14, 15.9, 16.73, 16.44, 17.1...\n",
              "4  [23.33, 26.32, 20.34, 22.05, 21.22, 19.66, 18....\n",
              "5  [17.78, 20.53, 20.34, 21.79, 19.8, 19.49, 19.4...\n",
              "6  [24.44, 20.53, 18.62, 16.92, 16.12, 16.1, 16.3...\n",
              "7  [25.56, 18.95, 21.03, 22.31, 19.59, 20.34, 19...."
            ],
            "text/html": [
              "\n",
              "  <div id=\"df-6f158956-0f9d-4bc9-89c6-a455e0cf0f1c\">\n",
              "    <div class=\"colab-df-container\">\n",
              "      <div>\n",
              "<style scoped>\n",
              "    .dataframe tbody tr th:only-of-type {\n",
              "        vertical-align: middle;\n",
              "    }\n",
              "\n",
              "    .dataframe tbody tr th {\n",
              "        vertical-align: top;\n",
              "    }\n",
              "\n",
              "    .dataframe thead th {\n",
              "        text-align: right;\n",
              "    }\n",
              "</style>\n",
              "<table border=\"1\" class=\"dataframe\">\n",
              "  <thead>\n",
              "    <tr style=\"text-align: right;\">\n",
              "      <th></th>\n",
              "      <th>rewards</th>\n",
              "    </tr>\n",
              "  </thead>\n",
              "  <tbody>\n",
              "    <tr>\n",
              "      <th>0</th>\n",
              "      <td>[16.67, 13.68, 14.48, 14.87, 15.92, 13.9, 13.4...</td>\n",
              "    </tr>\n",
              "    <tr>\n",
              "      <th>1</th>\n",
              "      <td>[24.44, 25.79, 23.1, 22.05, 24.9, 23.39, 23.62...</td>\n",
              "    </tr>\n",
              "    <tr>\n",
              "      <th>2</th>\n",
              "      <td>[25.56, 25.79, 23.1, 20.26, 19.39, 20.0, 19.28...</td>\n",
              "    </tr>\n",
              "    <tr>\n",
              "      <th>3</th>\n",
              "      <td>[22.22, 16.32, 14.14, 15.9, 16.73, 16.44, 17.1...</td>\n",
              "    </tr>\n",
              "    <tr>\n",
              "      <th>4</th>\n",
              "      <td>[23.33, 26.32, 20.34, 22.05, 21.22, 19.66, 18....</td>\n",
              "    </tr>\n",
              "    <tr>\n",
              "      <th>5</th>\n",
              "      <td>[17.78, 20.53, 20.34, 21.79, 19.8, 19.49, 19.4...</td>\n",
              "    </tr>\n",
              "    <tr>\n",
              "      <th>6</th>\n",
              "      <td>[24.44, 20.53, 18.62, 16.92, 16.12, 16.1, 16.3...</td>\n",
              "    </tr>\n",
              "    <tr>\n",
              "      <th>7</th>\n",
              "      <td>[25.56, 18.95, 21.03, 22.31, 19.59, 20.34, 19....</td>\n",
              "    </tr>\n",
              "  </tbody>\n",
              "</table>\n",
              "</div>\n",
              "      <button class=\"colab-df-convert\" onclick=\"convertToInteractive('df-6f158956-0f9d-4bc9-89c6-a455e0cf0f1c')\"\n",
              "              title=\"Convert this dataframe to an interactive table.\"\n",
              "              style=\"display:none;\">\n",
              "        \n",
              "  <svg xmlns=\"http://www.w3.org/2000/svg\" height=\"24px\"viewBox=\"0 0 24 24\"\n",
              "       width=\"24px\">\n",
              "    <path d=\"M0 0h24v24H0V0z\" fill=\"none\"/>\n",
              "    <path d=\"M18.56 5.44l.94 2.06.94-2.06 2.06-.94-2.06-.94-.94-2.06-.94 2.06-2.06.94zm-11 1L8.5 8.5l.94-2.06 2.06-.94-2.06-.94L8.5 2.5l-.94 2.06-2.06.94zm10 10l.94 2.06.94-2.06 2.06-.94-2.06-.94-.94-2.06-.94 2.06-2.06.94z\"/><path d=\"M17.41 7.96l-1.37-1.37c-.4-.4-.92-.59-1.43-.59-.52 0-1.04.2-1.43.59L10.3 9.45l-7.72 7.72c-.78.78-.78 2.05 0 2.83L4 21.41c.39.39.9.59 1.41.59.51 0 1.02-.2 1.41-.59l7.78-7.78 2.81-2.81c.8-.78.8-2.07 0-2.86zM5.41 20L4 18.59l7.72-7.72 1.47 1.35L5.41 20z\"/>\n",
              "  </svg>\n",
              "      </button>\n",
              "      \n",
              "  <style>\n",
              "    .colab-df-container {\n",
              "      display:flex;\n",
              "      flex-wrap:wrap;\n",
              "      gap: 12px;\n",
              "    }\n",
              "\n",
              "    .colab-df-convert {\n",
              "      background-color: #E8F0FE;\n",
              "      border: none;\n",
              "      border-radius: 50%;\n",
              "      cursor: pointer;\n",
              "      display: none;\n",
              "      fill: #1967D2;\n",
              "      height: 32px;\n",
              "      padding: 0 0 0 0;\n",
              "      width: 32px;\n",
              "    }\n",
              "\n",
              "    .colab-df-convert:hover {\n",
              "      background-color: #E2EBFA;\n",
              "      box-shadow: 0px 1px 2px rgba(60, 64, 67, 0.3), 0px 1px 3px 1px rgba(60, 64, 67, 0.15);\n",
              "      fill: #174EA6;\n",
              "    }\n",
              "\n",
              "    [theme=dark] .colab-df-convert {\n",
              "      background-color: #3B4455;\n",
              "      fill: #D2E3FC;\n",
              "    }\n",
              "\n",
              "    [theme=dark] .colab-df-convert:hover {\n",
              "      background-color: #434B5C;\n",
              "      box-shadow: 0px 1px 3px 1px rgba(0, 0, 0, 0.15);\n",
              "      filter: drop-shadow(0px 1px 2px rgba(0, 0, 0, 0.3));\n",
              "      fill: #FFFFFF;\n",
              "    }\n",
              "  </style>\n",
              "\n",
              "      <script>\n",
              "        const buttonEl =\n",
              "          document.querySelector('#df-6f158956-0f9d-4bc9-89c6-a455e0cf0f1c button.colab-df-convert');\n",
              "        buttonEl.style.display =\n",
              "          google.colab.kernel.accessAllowed ? 'block' : 'none';\n",
              "\n",
              "        async function convertToInteractive(key) {\n",
              "          const element = document.querySelector('#df-6f158956-0f9d-4bc9-89c6-a455e0cf0f1c');\n",
              "          const dataTable =\n",
              "            await google.colab.kernel.invokeFunction('convertToInteractive',\n",
              "                                                     [key], {});\n",
              "          if (!dataTable) return;\n",
              "\n",
              "          const docLinkHtml = 'Like what you see? Visit the ' +\n",
              "            '<a target=\"_blank\" href=https://colab.research.google.com/notebooks/data_table.ipynb>data table notebook</a>'\n",
              "            + ' to learn more about interactive tables.';\n",
              "          element.innerHTML = '';\n",
              "          dataTable['output_type'] = 'display_data';\n",
              "          await google.colab.output.renderOutput(dataTable, element);\n",
              "          const docLink = document.createElement('div');\n",
              "          docLink.innerHTML = docLinkHtml;\n",
              "          element.appendChild(docLink);\n",
              "        }\n",
              "      </script>\n",
              "    </div>\n",
              "  </div>\n",
              "  "
            ]
          },
          "metadata": {}
        }
      ]
    },
    {
      "cell_type": "code",
      "source": [],
      "metadata": {
        "colab": {
          "base_uri": "https://localhost:8080/"
        },
        "id": "EaJAQwlNpuVx",
        "outputId": "4193547a-8158-4b7e-c307-aeb9e1bfe057"
      },
      "execution_count": null,
      "outputs": [
        {
          "output_type": "execute_result",
          "data": {
            "text/plain": [
              "882"
            ]
          },
          "metadata": {},
          "execution_count": 84
        }
      ]
    },
    {
      "cell_type": "code",
      "source": [
        "# array = df_rewards.to_records(index=False)\n",
        "# r = array['rewards']"
      ],
      "metadata": {
        "id": "MlX7TujgmZ-8"
      },
      "execution_count": null,
      "outputs": []
    },
    {
      "cell_type": "code",
      "source": [
        "first = df_rewards['rewards'][6]\n",
        "first = first[1:]\n",
        "first = first[:len(first)-1]\n",
        "first = first.split(\",\")\n",
        "first[0]\n",
        "for i in range(len(first)):\n",
        "  first[i] = float(first[i])\n",
        "# first\n",
        "l = len(first)\n",
        "# l=800\n",
        "x = [i for i in range(1,l+1)]\n",
        "len(x)\n",
        "\n",
        "y = first[:l]\n",
        "len(y)\n",
        "area = trapz(x, y)\n",
        "print(\"area trapz =\", area)\n",
        "\n",
        "\n",
        "# Compute the area using the composite Simpson's rule.\n",
        "area = simpson(x, y)\n",
        "print(\"area simpson =\", area)\n",
        "\n",
        "\n",
        "print('computed AUC using sklearn.metrics.auc: {}'.format(auc(x,y)))"
      ],
      "metadata": {
        "colab": {
          "base_uri": "https://localhost:8080/"
        },
        "id": "ORmLcvQkqsJL",
        "outputId": "f3348f0a-ae63-4372-8b10-ce99002abc33"
      },
      "execution_count": null,
      "outputs": [
        {
          "output_type": "stream",
          "name": "stdout",
          "text": [
            "area trapz = -1281.3200000000027\n",
            "area simpson = nan\n",
            "computed AUC using sklearn.metrics.auc: 12642.98\n"
          ]
        }
      ]
    },
    {
      "cell_type": "code",
      "source": [],
      "metadata": {
        "colab": {
          "base_uri": "https://localhost:8080/"
        },
        "id": "x3nxfLZApgJl",
        "outputId": "d1abe207-ae6d-480c-94b7-d98eedd3d872"
      },
      "execution_count": null,
      "outputs": [
        {
          "output_type": "stream",
          "name": "stdout",
          "text": [
            "area trapz = 492.82499999999345\n",
            "area simpson = nan\n"
          ]
        }
      ]
    },
    {
      "cell_type": "code",
      "source": [],
      "metadata": {
        "id": "RiqTV-89qHte"
      },
      "execution_count": null,
      "outputs": []
    },
    {
      "cell_type": "markdown",
      "source": [
        "# Calculating for frostbite"
      ],
      "metadata": {
        "id": "_c2YvBCwFZLz"
      }
    },
    {
      "cell_type": "code",
      "source": [
        "df_results_reran = pd.read_csv('results_phase2_reran.csv',sep='\\t')\n",
        "df_results_reran\n",
        "first = df_results_reran['rewards'][1]\n",
        "first = first[1:] #remove first square bracket\n",
        "first = first[:len(first)-1] #remove last square bracket \n",
        "first = first.split(\",\") #split by ,\n",
        "for i in range(len(first)): \n",
        "  first[i] = float(first[i]) #convert string to float \n",
        "x = [i for i in range(len(first))]\n",
        "y=first\n",
        "print('computed AUC using sklearn.metrics.auc: {}'.format(auc(x,y)))"
      ],
      "metadata": {
        "colab": {
          "base_uri": "https://localhost:8080/"
        },
        "id": "RW55edcDUFKD",
        "outputId": "b4672519-5b4d-49a9-dacd-bc7759337352"
      },
      "execution_count": 86,
      "outputs": [
        {
          "output_type": "stream",
          "name": "stdout",
          "text": [
            "computed AUC using sklearn.metrics.auc: 9484.11\n"
          ]
        }
      ]
    },
    {
      "cell_type": "code",
      "source": [
        "df_results = pd.read_csv('for_colab_results.csv',sep='\\t')\n",
        "# display(df_results)\n"
      ],
      "metadata": {
        "id": "cfaaReFDFbFV"
      },
      "execution_count": 8,
      "outputs": []
    },
    {
      "cell_type": "code",
      "source": [
        "first = df_results['rewards'][23]\n",
        "first = first[1:] #remove first square bracket\n",
        "first = first[:len(first)-1] #remove last square bracket \n",
        "first = first.split(\",\") #split by ,\n",
        "for i in range(len(first)): \n",
        "  first[i] = float(first[i]) #convert string to float \n",
        "\n",
        "import matplotlib.pyplot as plt\n",
        "plt.plot([i for i in range(len(first))], first)\n",
        "plt.xlabel('Episode no.')\n",
        "plt.ylabel('Reward')\n",
        "plt.show()\n",
        "x = [i for i in range(len(first))]\n",
        "y = first\n",
        "area = trapz(y)\n",
        "print(\"area trapz =\", area)\n",
        "\n",
        "\n",
        "# # Compute the area using the composite Simpson's rule.\n",
        "area = simpson(y)\n",
        "print(\"area simpson =\", area)\n",
        "\n",
        "\n",
        "print('computed AUC using sklearn.metrics.auc: {}'.format(auc(x,y)))"
      ],
      "metadata": {
        "colab": {
          "base_uri": "https://localhost:8080/",
          "height": 331
        },
        "id": "nlMPj1GjINch",
        "outputId": "9a4869ed-1557-47a3-aeed-97c1d090d3da"
      },
      "execution_count": 53,
      "outputs": [
        {
          "output_type": "display_data",
          "data": {
            "text/plain": [
              "<Figure size 432x288 with 1 Axes>"
            ],
            "image/png": "[encoded data removed]"
          },
          "metadata": {
            "needs_background": "light"
          }
        },
        {
          "output_type": "stream",
          "name": "stdout",
          "text": [
            "area trapz = 13950.529999999999\n",
            "area simpson = 13950.037499999999\n",
            "computed AUC using sklearn.metrics.auc: 13950.529999999999\n"
          ]
        }
      ]
    },
    {
      "cell_type": "code",
      "source": [
        "areas = []\n",
        "\n",
        "for i in range(24):\n",
        "  first = df_results['rewards'][i]\n",
        "  first = first[1:] #remove first square bracket\n",
        "  first = first[:len(first)-1] #remove last square bracket \n",
        "  first = first.split(\",\") #split by ,\n",
        "  for i in range(len(first)): \n",
        "    first[i] = float(first[i]) #convert string to float \n",
        "\n",
        "  x = [i for i in range(len(first))]\n",
        "  y = first\n",
        "  print('computed AUC using sklearn.metrics.auc: {}'.format(auc(x,y)))\n",
        "  areas.append(auc(x,y))"
      ],
      "metadata": {
        "colab": {
          "base_uri": "https://localhost:8080/"
        },
        "id": "TrF9Po8pN4hp",
        "outputId": "b45d18a0-c346-40a4-8d55-33fb385af52a"
      },
      "execution_count": 55,
      "outputs": [
        {
          "output_type": "stream",
          "name": "stdout",
          "text": [
            "computed AUC using sklearn.metrics.auc: 32081.954999999998\n",
            "computed AUC using sklearn.metrics.auc: 13693.205000000002\n",
            "computed AUC using sklearn.metrics.auc: 13795.72\n",
            "computed AUC using sklearn.metrics.auc: 30444.489999999998\n",
            "computed AUC using sklearn.metrics.auc: 20743.7\n",
            "computed AUC using sklearn.metrics.auc: 13738.96\n",
            "computed AUC using sklearn.metrics.auc: 13786.39\n",
            "computed AUC using sklearn.metrics.auc: 13837.275000000001\n",
            "computed AUC using sklearn.metrics.auc: 20197.1\n",
            "computed AUC using sklearn.metrics.auc: 40587.83\n",
            "computed AUC using sklearn.metrics.auc: 31861.57\n",
            "computed AUC using sklearn.metrics.auc: 13462.45\n",
            "computed AUC using sklearn.metrics.auc: 20047.07\n",
            "computed AUC using sklearn.metrics.auc: 31467.2\n",
            "computed AUC using sklearn.metrics.auc: 39193.46\n",
            "computed AUC using sklearn.metrics.auc: 13822.875\n",
            "computed AUC using sklearn.metrics.auc: 12441.48\n",
            "computed AUC using sklearn.metrics.auc: 11551.28\n",
            "computed AUC using sklearn.metrics.auc: 13965.895\n",
            "computed AUC using sklearn.metrics.auc: 615.42\n",
            "computed AUC using sklearn.metrics.auc: 12580.11\n",
            "computed AUC using sklearn.metrics.auc: 13774.37\n",
            "computed AUC using sklearn.metrics.auc: 12642.98\n",
            "computed AUC using sklearn.metrics.auc: 13950.529999999999\n"
          ]
        }
      ]
    },
    {
      "cell_type": "code",
      "source": [
        "df_SL_results = pd.read_csv('results.csv')\n",
        "display(df_SL_results)"
      ],
      "metadata": {
        "colab": {
          "base_uri": "https://localhost:8080/",
          "height": 959
        },
        "id": "sJ28K2xqOrpN",
        "outputId": "88979caf-6ef0-4d16-d87b-14b78b967956"
      },
      "execution_count": 57,
      "outputs": [
        {
          "output_type": "display_data",
          "data": {
            "text/plain": [
              "     total_time                                     call_back_time  test_acc  \\\n",
              "0   2104.656549  [118.72687697410583, 111.34315729141235, 108.4...  0.655785   \n",
              "1   2336.546644  [116.22583866119385, 114.97595262527466, 107.5...  0.703099   \n",
              "2    558.254009  [110.4372808933258, 111.06934905052185, 112.11...  0.597521   \n",
              "3   2811.749913  [111.87456059455872, 111.16213202476501, 112.3...  0.730992   \n",
              "4   2825.486259  [108.97745490074158, 110.68928122520447, 112.6...  0.608884   \n",
              "5   1155.866273  [116.79847931861877, 115.07091331481934, 115.2...  0.597521   \n",
              "6   1867.856559  [118.01843285560608, 116.67235517501831, 116.2...  0.597521   \n",
              "7   1729.269201  [116.80330085754395, 113.37588119506836, 117.6...  0.597521   \n",
              "8   2907.852627  [116.94719457626343, 119.44481253623962, 117.2...  0.791942   \n",
              "9   2865.235451  [118.98726391792297, 120.60774159431458, 121.0...  0.782025   \n",
              "10  1665.798621  [122.76028275489807, 129.183842420578, 124.774...  0.785950   \n",
              "11  5147.058766  [205.79116439819336, 207.36525225639343, 206.4...  0.780992   \n",
              "12  2090.508962  [140.3517611026764, 139.32062482833862, 138.32...  0.787190   \n",
              "13  4605.166798  [183.04796814918518, 184.1682949066162, 181.13...  0.751859   \n",
              "14  7001.799276  [280.65400791168213, 278.61126351356506, 278.3...  0.782851   \n",
              "15  3798.287621  [154.1237895488739, 156.84262084960938, 149.87...  0.746694   \n",
              "16  3833.436710  [154.36547875404358, 152.72348618507385, 153.5...  0.734091   \n",
              "17  1772.743027  [123.8396406173706, 130.94322443008423, 130.00...  0.597521   \n",
              "18  3825.769161  [156.91202473640442, 153.25514936447144, 154.9...  0.778926   \n",
              "19  2842.723147  [106.72251486778259, 114.8908040523529, 116.35...  0.597521   \n",
              "20   614.504215  [153.55900955200195, 152.62816071510315, 154.1...  0.597521   \n",
              "21   451.692033  [112.68649864196777, 116.08608841896057, 115.9...  0.056198   \n",
              "22  2916.209717  [119.47130274772644, 117.61688780784607, 117.8...  0.661983   \n",
              "23  2273.942694  [144.34978556632996, 142.67840337753296, 144.7...  0.597521   \n",
              "24   536.442928  [135.16300106048584, 137.2347161769867, 132.31...  0.597521   \n",
              "25  1280.411790  [145.46923637390137, 144.2983374595642, 143.90...  0.597521   \n",
              "26  4675.274443  [178.03202867507935, 186.87054133415222, 190.3...  0.791942   \n",
              "27  1565.214985  [176.01996898651123, 174.90772533416748, 171.9...  0.597521   \n",
              "28  1272.052263  [182.63190126419067, 179.4544107913971, 180.06...  0.597521   \n",
              "\n",
              "    test_loss  \n",
              "0    1.122250  \n",
              "1    0.993368  \n",
              "2    1.471960  \n",
              "3    0.850868  \n",
              "4    1.267543  \n",
              "5    1.471266  \n",
              "6    1.470772  \n",
              "7    1.468316  \n",
              "8    0.649576  \n",
              "9    0.716279  \n",
              "10   0.702349  \n",
              "11   0.671668  \n",
              "12   0.719511  \n",
              "13   0.792677  \n",
              "14   0.698483  \n",
              "15   0.829057  \n",
              "16   0.811574  \n",
              "17   1.469510  \n",
              "18   0.683840  \n",
              "19   1.486601  \n",
              "20   1.527139  \n",
              "21   2.891123  \n",
              "22   1.094111  \n",
              "23   1.469946  \n",
              "24   1.474952  \n",
              "25   1.499728  \n",
              "26   0.628273  \n",
              "27   1.475069  \n",
              "28   1.474251  "
            ],
            "text/html": [
              "\n",
              "  <div id=\"df-c40e8cee-93f5-4398-a6ee-fabc565fd22f\">\n",
              "    <div class=\"colab-df-container\">\n",
              "      <div>\n",
              "<style scoped>\n",
              "    .dataframe tbody tr th:only-of-type {\n",
              "        vertical-align: middle;\n",
              "    }\n",
              "\n",
              "    .dataframe tbody tr th {\n",
              "        vertical-align: top;\n",
              "    }\n",
              "\n",
              "    .dataframe thead th {\n",
              "        text-align: right;\n",
              "    }\n",
              "</style>\n",
              "<table border=\"1\" class=\"dataframe\">\n",
              "  <thead>\n",
              "    <tr style=\"text-align: right;\">\n",
              "      <th></th>\n",
              "      <th>total_time</th>\n",
              "      <th>call_back_time</th>\n",
              "      <th>test_acc</th>\n",
              "      <th>test_loss</th>\n",
              "    </tr>\n",
              "  </thead>\n",
              "  <tbody>\n",
              "    <tr>\n",
              "      <th>0</th>\n",
              "      <td>2104.656549</td>\n",
              "      <td>[118.72687697410583, 111.34315729141235, 108.4...</td>\n",
              "      <td>0.655785</td>\n",
              "      <td>1.122250</td>\n",
              "    </tr>\n",
              "    <tr>\n",
              "      <th>1</th>\n",
              "      <td>2336.546644</td>\n",
              "      <td>[116.22583866119385, 114.97595262527466, 107.5...</td>\n",
              "      <td>0.703099</td>\n",
              "      <td>0.993368</td>\n",
              "    </tr>\n",
              "    <tr>\n",
              "      <th>2</th>\n",
              "      <td>558.254009</td>\n",
              "      <td>[110.4372808933258, 111.06934905052185, 112.11...</td>\n",
              "      <td>0.597521</td>\n",
              "      <td>1.471960</td>\n",
              "    </tr>\n",
              "    <tr>\n",
              "      <th>3</th>\n",
              "      <td>2811.749913</td>\n",
              "      <td>[111.87456059455872, 111.16213202476501, 112.3...</td>\n",
              "      <td>0.730992</td>\n",
              "      <td>0.850868</td>\n",
              "    </tr>\n",
              "    <tr>\n",
              "      <th>4</th>\n",
              "      <td>2825.486259</td>\n",
              "      <td>[108.97745490074158, 110.68928122520447, 112.6...</td>\n",
              "      <td>0.608884</td>\n",
              "      <td>1.267543</td>\n",
              "    </tr>\n",
              "    <tr>\n",
              "      <th>5</th>\n",
              "      <td>1155.866273</td>\n",
              "      <td>[116.79847931861877, 115.07091331481934, 115.2...</td>\n",
              "      <td>0.597521</td>\n",
              "      <td>1.471266</td>\n",
              "    </tr>\n",
              "    <tr>\n",
              "      <th>6</th>\n",
              "      <td>1867.856559</td>\n",
              "      <td>[118.01843285560608, 116.67235517501831, 116.2...</td>\n",
              "      <td>0.597521</td>\n",
              "      <td>1.470772</td>\n",
              "    </tr>\n",
              "    <tr>\n",
              "      <th>7</th>\n",
              "      <td>1729.269201</td>\n",
              "      <td>[116.80330085754395, 113.37588119506836, 117.6...</td>\n",
              "      <td>0.597521</td>\n",
              "      <td>1.468316</td>\n",
              "    </tr>\n",
              "    <tr>\n",
              "      <th>8</th>\n",
              "      <td>2907.852627</td>\n",
              "      <td>[116.94719457626343, 119.44481253623962, 117.2...</td>\n",
              "      <td>0.791942</td>\n",
              "      <td>0.649576</td>\n",
              "    </tr>\n",
              "    <tr>\n",
              "      <th>9</th>\n",
              "      <td>2865.235451</td>\n",
              "      <td>[118.98726391792297, 120.60774159431458, 121.0...</td>\n",
              "      <td>0.782025</td>\n",
              "      <td>0.716279</td>\n",
              "    </tr>\n",
              "    <tr>\n",
              "      <th>10</th>\n",
              "      <td>1665.798621</td>\n",
              "      <td>[122.76028275489807, 129.183842420578, 124.774...</td>\n",
              "      <td>0.785950</td>\n",
              "      <td>0.702349</td>\n",
              "    </tr>\n",
              "    <tr>\n",
              "      <th>11</th>\n",
              "      <td>5147.058766</td>\n",
              "      <td>[205.79116439819336, 207.36525225639343, 206.4...</td>\n",
              "      <td>0.780992</td>\n",
              "      <td>0.671668</td>\n",
              "    </tr>\n",
              "    <tr>\n",
              "      <th>12</th>\n",
              "      <td>2090.508962</td>\n",
              "      <td>[140.3517611026764, 139.32062482833862, 138.32...</td>\n",
              "      <td>0.787190</td>\n",
              "      <td>0.719511</td>\n",
              "    </tr>\n",
              "    <tr>\n",
              "      <th>13</th>\n",
              "      <td>4605.166798</td>\n",
              "      <td>[183.04796814918518, 184.1682949066162, 181.13...</td>\n",
              "      <td>0.751859</td>\n",
              "      <td>0.792677</td>\n",
              "    </tr>\n",
              "    <tr>\n",
              "      <th>14</th>\n",
              "      <td>7001.799276</td>\n",
              "      <td>[280.65400791168213, 278.61126351356506, 278.3...</td>\n",
              "      <td>0.782851</td>\n",
              "      <td>0.698483</td>\n",
              "    </tr>\n",
              "    <tr>\n",
              "      <th>15</th>\n",
              "      <td>3798.287621</td>\n",
              "      <td>[154.1237895488739, 156.84262084960938, 149.87...</td>\n",
              "      <td>0.746694</td>\n",
              "      <td>0.829057</td>\n",
              "    </tr>\n",
              "    <tr>\n",
              "      <th>16</th>\n",
              "      <td>3833.436710</td>\n",
              "      <td>[154.36547875404358, 152.72348618507385, 153.5...</td>\n",
              "      <td>0.734091</td>\n",
              "      <td>0.811574</td>\n",
              "    </tr>\n",
              "    <tr>\n",
              "      <th>17</th>\n",
              "      <td>1772.743027</td>\n",
              "      <td>[123.8396406173706, 130.94322443008423, 130.00...</td>\n",
              "      <td>0.597521</td>\n",
              "      <td>1.469510</td>\n",
              "    </tr>\n",
              "    <tr>\n",
              "      <th>18</th>\n",
              "      <td>3825.769161</td>\n",
              "      <td>[156.91202473640442, 153.25514936447144, 154.9...</td>\n",
              "      <td>0.778926</td>\n",
              "      <td>0.683840</td>\n",
              "    </tr>\n",
              "    <tr>\n",
              "      <th>19</th>\n",
              "      <td>2842.723147</td>\n",
              "      <td>[106.72251486778259, 114.8908040523529, 116.35...</td>\n",
              "      <td>0.597521</td>\n",
              "      <td>1.486601</td>\n",
              "    </tr>\n",
              "    <tr>\n",
              "      <th>20</th>\n",
              "      <td>614.504215</td>\n",
              "      <td>[153.55900955200195, 152.62816071510315, 154.1...</td>\n",
              "      <td>0.597521</td>\n",
              "      <td>1.527139</td>\n",
              "    </tr>\n",
              "    <tr>\n",
              "      <th>21</th>\n",
              "      <td>451.692033</td>\n",
              "      <td>[112.68649864196777, 116.08608841896057, 115.9...</td>\n",
              "      <td>0.056198</td>\n",
              "      <td>2.891123</td>\n",
              "    </tr>\n",
              "    <tr>\n",
              "      <th>22</th>\n",
              "      <td>2916.209717</td>\n",
              "      <td>[119.47130274772644, 117.61688780784607, 117.8...</td>\n",
              "      <td>0.661983</td>\n",
              "      <td>1.094111</td>\n",
              "    </tr>\n",
              "    <tr>\n",
              "      <th>23</th>\n",
              "      <td>2273.942694</td>\n",
              "      <td>[144.34978556632996, 142.67840337753296, 144.7...</td>\n",
              "      <td>0.597521</td>\n",
              "      <td>1.469946</td>\n",
              "    </tr>\n",
              "    <tr>\n",
              "      <th>24</th>\n",
              "      <td>536.442928</td>\n",
              "      <td>[135.16300106048584, 137.2347161769867, 132.31...</td>\n",
              "      <td>0.597521</td>\n",
              "      <td>1.474952</td>\n",
              "    </tr>\n",
              "    <tr>\n",
              "      <th>25</th>\n",
              "      <td>1280.411790</td>\n",
              "      <td>[145.46923637390137, 144.2983374595642, 143.90...</td>\n",
              "      <td>0.597521</td>\n",
              "      <td>1.499728</td>\n",
              "    </tr>\n",
              "    <tr>\n",
              "      <th>26</th>\n",
              "      <td>4675.274443</td>\n",
              "      <td>[178.03202867507935, 186.87054133415222, 190.3...</td>\n",
              "      <td>0.791942</td>\n",
              "      <td>0.628273</td>\n",
              "    </tr>\n",
              "    <tr>\n",
              "      <th>27</th>\n",
              "      <td>1565.214985</td>\n",
              "      <td>[176.01996898651123, 174.90772533416748, 171.9...</td>\n",
              "      <td>0.597521</td>\n",
              "      <td>1.475069</td>\n",
              "    </tr>\n",
              "    <tr>\n",
              "      <th>28</th>\n",
              "      <td>1272.052263</td>\n",
              "      <td>[182.63190126419067, 179.4544107913971, 180.06...</td>\n",
              "      <td>0.597521</td>\n",
              "      <td>1.474251</td>\n",
              "    </tr>\n",
              "  </tbody>\n",
              "</table>\n",
              "</div>\n",
              "      <button class=\"colab-df-convert\" onclick=\"convertToInteractive('df-c40e8cee-93f5-4398-a6ee-fabc565fd22f')\"\n",
              "              title=\"Convert this dataframe to an interactive table.\"\n",
              "              style=\"display:none;\">\n",
              "        \n",
              "  <svg xmlns=\"http://www.w3.org/2000/svg\" height=\"24px\"viewBox=\"0 0 24 24\"\n",
              "       width=\"24px\">\n",
              "    <path d=\"M0 0h24v24H0V0z\" fill=\"none\"/>\n",
              "    <path d=\"M18.56 5.44l.94 2.06.94-2.06 2.06-.94-2.06-.94-.94-2.06-.94 2.06-2.06.94zm-11 1L8.5 8.5l.94-2.06 2.06-.94-2.06-.94L8.5 2.5l-.94 2.06-2.06.94zm10 10l.94 2.06.94-2.06 2.06-.94-2.06-.94-.94-2.06-.94 2.06-2.06.94z\"/><path d=\"M17.41 7.96l-1.37-1.37c-.4-.4-.92-.59-1.43-.59-.52 0-1.04.2-1.43.59L10.3 9.45l-7.72 7.72c-.78.78-.78 2.05 0 2.83L4 21.41c.39.39.9.59 1.41.59.51 0 1.02-.2 1.41-.59l7.78-7.78 2.81-2.81c.8-.78.8-2.07 0-2.86zM5.41 20L4 18.59l7.72-7.72 1.47 1.35L5.41 20z\"/>\n",
              "  </svg>\n",
              "      </button>\n",
              "      \n",
              "  <style>\n",
              "    .colab-df-container {\n",
              "      display:flex;\n",
              "      flex-wrap:wrap;\n",
              "      gap: 12px;\n",
              "    }\n",
              "\n",
              "    .colab-df-convert {\n",
              "      background-color: #E8F0FE;\n",
              "      border: none;\n",
              "      border-radius: 50%;\n",
              "      cursor: pointer;\n",
              "      display: none;\n",
              "      fill: #1967D2;\n",
              "      height: 32px;\n",
              "      padding: 0 0 0 0;\n",
              "      width: 32px;\n",
              "    }\n",
              "\n",
              "    .colab-df-convert:hover {\n",
              "      background-color: #E2EBFA;\n",
              "      box-shadow: 0px 1px 2px rgba(60, 64, 67, 0.3), 0px 1px 3px 1px rgba(60, 64, 67, 0.15);\n",
              "      fill: #174EA6;\n",
              "    }\n",
              "\n",
              "    [theme=dark] .colab-df-convert {\n",
              "      background-color: #3B4455;\n",
              "      fill: #D2E3FC;\n",
              "    }\n",
              "\n",
              "    [theme=dark] .colab-df-convert:hover {\n",
              "      background-color: #434B5C;\n",
              "      box-shadow: 0px 1px 3px 1px rgba(0, 0, 0, 0.15);\n",
              "      filter: drop-shadow(0px 1px 2px rgba(0, 0, 0, 0.3));\n",
              "      fill: #FFFFFF;\n",
              "    }\n",
              "  </style>\n",
              "\n",
              "      <script>\n",
              "        const buttonEl =\n",
              "          document.querySelector('#df-c40e8cee-93f5-4398-a6ee-fabc565fd22f button.colab-df-convert');\n",
              "        buttonEl.style.display =\n",
              "          google.colab.kernel.accessAllowed ? 'block' : 'none';\n",
              "\n",
              "        async function convertToInteractive(key) {\n",
              "          const element = document.querySelector('#df-c40e8cee-93f5-4398-a6ee-fabc565fd22f');\n",
              "          const dataTable =\n",
              "            await google.colab.kernel.invokeFunction('convertToInteractive',\n",
              "                                                     [key], {});\n",
              "          if (!dataTable) return;\n",
              "\n",
              "          const docLinkHtml = 'Like what you see? Visit the ' +\n",
              "            '<a target=\"_blank\" href=https://colab.research.google.com/notebooks/data_table.ipynb>data table notebook</a>'\n",
              "            + ' to learn more about interactive tables.';\n",
              "          element.innerHTML = '';\n",
              "          dataTable['output_type'] = 'display_data';\n",
              "          await google.colab.output.renderOutput(dataTable, element);\n",
              "          const docLink = document.createElement('div');\n",
              "          docLink.innerHTML = docLinkHtml;\n",
              "          element.appendChild(docLink);\n",
              "        }\n",
              "      </script>\n",
              "    </div>\n",
              "  </div>\n",
              "  "
            ]
          },
          "metadata": {}
        }
      ]
    },
    {
      "cell_type": "code",
      "source": [
        "test_acc = df_SL_results['test_acc']\n",
        "areas=[32081,13795,30444,20743,13738,13786,13837,20197,40587,31861,20047,31467,39193,13822,11551,13965,13774,13950]\n",
        "acc=[0.65,0.59,0.73,0.60,0.591,0.59,0.59,0.79,0.78,0.78,0.78,0.74,0.73,0.59,0.59,0.59,0.59,0.59]"
      ],
      "metadata": {
        "id": "sgxZVHDRO3-_"
      },
      "execution_count": 100,
      "outputs": []
    },
    {
      "cell_type": "code",
      "source": [
        "plt.scatter(acc, areas)\n",
        "plt.show()"
      ],
      "metadata": {
        "colab": {
          "base_uri": "https://localhost:8080/",
          "height": 265
        },
        "id": "PqKU4HVzP9kJ",
        "outputId": "6f2d728b-e7ea-4b5b-809f-e1de0c713288"
      },
      "execution_count": 81,
      "outputs": [
        {
          "output_type": "display_data",
          "data": {
            "text/plain": [
              "<Figure size 432x288 with 1 Axes>"
            ],
            "image/png": "[encoded data removed]"
          },
          "metadata": {
            "needs_background": "light"
          }
        }
      ]
    },
    {
      "cell_type": "code",
      "source": [
        "ltest_acc = df_SL_results['test_acc']\n",
        "areas=[32081.954999999998,13693.205000000002,13795.72,30444.489999999998,20743.7,\n",
        " 13738.96,13786.39,13837.275000000001,20197.1,\n",
        " 40587.83,31861.57,13462.45,20047.07,31467.2,39193.46,13822.875,23554.13,11551.28,13965.895,615.42,12580.11,13774.37,12642.98,13950.529999999999]\n",
        "acc=[0.655785,0.703099,0.597521,0.730992,0.608884,0.597521,0.597521,0.597521,0.791942,0.782025,0.785950,0.780992,0.787190,0.746694,0.734091,0.597521,0.778926,0.597521,0.597521,0.056198,0.661983,0.597521,0.791942,0.597521]"
      ],
      "metadata": {
        "id": "knUaU6UJQEmB"
      },
      "execution_count": 98,
      "outputs": []
    },
    {
      "cell_type": "code",
      "source": [
        "\n",
        "\n",
        "\n",
        "y = np.array([2, 1, 4, 5, 8, 12, 18, 25, 96, 48])\n",
        "r = np.corrcoef(x, y)\n",
        "\n",
        "r\n",
        "# r[0, 1]\n",
        "\n",
        "# r[1, 0]\n"
      ],
      "metadata": {
        "colab": {
          "base_uri": "https://localhost:8080/"
        },
        "id": "f_qQfCPyVYOx",
        "outputId": "e4c4109e-9d76-4e2c-cd7a-3d5476a391e1"
      },
      "execution_count": 87,
      "outputs": [
        {
          "output_type": "execute_result",
          "data": {
            "text/plain": [
              "array([[1.        , 0.75864029],\n",
              "       [0.75864029, 1.        ]])"
            ]
          },
          "metadata": {},
          "execution_count": 87
        }
      ]
    },
    {
      "cell_type": "code",
      "source": [
        "r[0,1]"
      ],
      "metadata": {
        "colab": {
          "base_uri": "https://localhost:8080/"
        },
        "id": "FVLGay5QVqvG",
        "outputId": "6cbcb9fa-8b82-40cd-f1d8-a620d61e4b5a"
      },
      "execution_count": 89,
      "outputs": [
        {
          "output_type": "execute_result",
          "data": {
            "text/plain": [
              "0.7586402890911867"
            ]
          },
          "metadata": {},
          "execution_count": 89
        }
      ]
    },
    {
      "cell_type": "code",
      "source": [
        "\n",
        "import scipy.stats\n",
        "print(f\"np corrcoef: {np.corrcoef(acc,areas)[0,1]}\")\n",
        "print(f\"pearson: {scipy.stats.pearsonr(acc,areas)[0]}\")  # Pearson's r\n",
        "print(f\"spearman: {scipy.stats.spearmanr(acc,areas)[0]}\") # Spearman's rho\n",
        "\n"
      ],
      "metadata": {
        "colab": {
          "base_uri": "https://localhost:8080/"
        },
        "id": "XQiXKfdXVswK",
        "outputId": "e3629b2a-3908-40db-94dc-0e818b38308e"
      },
      "execution_count": 103,
      "outputs": [
        {
          "output_type": "stream",
          "name": "stdout",
          "text": [
            "np corrcoef: 0.7533803020116486\n",
            "pearson: 0.753380302011649\n",
            "spearman: 0.7363862796053906\n"
          ]
        }
      ]
    },
    {
      "cell_type": "markdown",
      "source": [
        "# Calculating for Riverraid\n"
      ],
      "metadata": {
        "id": "BNog6_2wm6dC"
      }
    },
    {
      "cell_type": "code",
      "source": [
        "df_results_rraid = pd.read_csv('f_results_phase2.csv',sep='\\t')"
      ],
      "metadata": {
        "id": "pjQxD4TbWFk-"
      },
      "execution_count": 186,
      "outputs": []
    },
    {
      "cell_type": "code",
      "source": [
        "first = df_results_rraid['rewards'][4]\n",
        "first = first[1:] #remove first square bracket\n",
        "first = first[:len(first)-1] #remove last square bracket \n",
        "first = first.split(\",\") #split by ,\n",
        "for p in range(len(first)): \n",
        "  first[p] = float(first[p]) \n",
        "len(first)\n",
        "\n",
        "import matplotlib.pyplot as plt\n",
        "plt.plot([i for i in range(len(first))], first)\n",
        "plt.xlabel('Episode no.')\n",
        "plt.ylabel('Reward')\n",
        "plt.show()"
      ],
      "metadata": {
        "colab": {
          "base_uri": "https://localhost:8080/",
          "height": 279
        },
        "id": "ZYyb3-dZucAI",
        "outputId": "a9e0e996-bf81-4914-ab9a-61ed6375da01"
      },
      "execution_count": 191,
      "outputs": [
        {
          "output_type": "display_data",
          "data": {
            "text/plain": [
              "<Figure size 432x288 with 1 Axes>"
            ],
            "image/png": "[encoded data removed]"
          },
          "metadata": {
            "needs_background": "light"
          }
        }
      ]
    },
    {
      "cell_type": "code",
      "source": [
        "areas = []\n",
        "\n",
        "for j in range(15):\n",
        "  first = df_results_rraid['rewards'][j]\n",
        "  first = first[1:] #remove first square bracket\n",
        "  first = first[:len(first)-1] #remove last square bracket \n",
        "  first = first.split(\",\") #split by ,\n",
        "  for p in range(len(first)): \n",
        "    first[p] = float(first[p]) #convert string to float \n",
        "\n",
        "  x = [z for z in range(len(first))]\n",
        "  y = first\n",
        "  print(f'Model {j} auc: {auc(x,y)}')\n",
        "  # print(simpson(y))\n",
        "  areas.append(auc(x,y))"
      ],
      "metadata": {
        "colab": {
          "base_uri": "https://localhost:8080/"
        },
        "id": "WSDkZCA3ngKd",
        "outputId": "a258b919-4ca6-45b4-c589-47c24890d84b"
      },
      "execution_count": 184,
      "outputs": [
        {
          "output_type": "stream",
          "name": "stdout",
          "text": [
            "Model 0 auc: 62869.135\n",
            "Model 1 auc: 63059.855\n",
            "Model 2 auc: 63547.825000000004\n",
            "Model 3 auc: 64065.29000000001\n",
            "Model 4 auc: 85682.73999999999\n",
            "Model 5 auc: 65033.95\n",
            "Model 6 auc: 63547.799999999996\n",
            "Model 7 auc: 61780.775\n",
            "Model 8 auc: 64276.109999999986\n",
            "Model 9 auc: 63828.67499999999\n",
            "Model 10 auc: 63767.575000000004\n",
            "Model 11 auc: 65493.41499999999\n",
            "Model 12 auc: 67158.865\n",
            "Model 13 auc: 26546.82\n",
            "Model 14 auc: 44864.899999999994\n"
          ]
        }
      ]
    },
    {
      "cell_type": "code",
      "source": [
        "len(areas)"
      ],
      "metadata": {
        "colab": {
          "base_uri": "https://localhost:8080/"
        },
        "id": "HWtAn47Nnsfe",
        "outputId": "af1daefe-d42e-404d-b050-b439db2ec171"
      },
      "execution_count": 185,
      "outputs": [
        {
          "output_type": "execute_result",
          "data": {
            "text/plain": [
              "15"
            ]
          },
          "metadata": {},
          "execution_count": 185
        }
      ]
    },
    {
      "cell_type": "code",
      "source": [
        "df_SL_results= pd.read_csv('/content/AI_frostbite_results (2).csv')\n",
        "display(df_SL_results)"
      ],
      "metadata": {
        "colab": {
          "base_uri": "https://localhost:8080/",
          "height": 237
        },
        "id": "q1Z4nsGgpKIN",
        "outputId": "cf0f9f3a-1119-476c-c158-1aee907461dc"
      },
      "execution_count": 192,
      "outputs": [
        {
          "output_type": "display_data",
          "data": {
            "text/plain": [
              "    total_time                                     call_back_time  test_acc  \\\n",
              "0  1017.737229  [50.79330086708069, 51.06496453285217, 50.7370...  0.282209   \n",
              "1   832.493008  [166.4247534275055, 167.53552055358887, 165.66...  0.127666   \n",
              "2  3242.607175  [193.37805891036987, 192.74506759643555, 192.0...  0.347648   \n",
              "3  3411.827751  [138.04171919822693, 136.71307635307312, 136.6...  0.345019   \n",
              "4  5191.600757  [220.38252925872803, 219.19235801696777, 217.1...  0.347940   \n",
              "5  1134.806807  [143.02283000946045, 141.81810975074768, 140.2...  0.335378   \n",
              "\n",
              "   test_loss  \n",
              "0   2.238052  \n",
              "1   2.742303  \n",
              "2   2.080754  \n",
              "3   2.087663  \n",
              "4   2.075830  \n",
              "5   2.124702  "
            ],
            "text/html": [
              "\n",
              "  <div id=\"df-88e66f45-d821-4eeb-8446-d064845724e6\">\n",
              "    <div class=\"colab-df-container\">\n",
              "      <div>\n",
              "<style scoped>\n",
              "    .dataframe tbody tr th:only-of-type {\n",
              "        vertical-align: middle;\n",
              "    }\n",
              "\n",
              "    .dataframe tbody tr th {\n",
              "        vertical-align: top;\n",
              "    }\n",
              "\n",
              "    .dataframe thead th {\n",
              "        text-align: right;\n",
              "    }\n",
              "</style>\n",
              "<table border=\"1\" class=\"dataframe\">\n",
              "  <thead>\n",
              "    <tr style=\"text-align: right;\">\n",
              "      <th></th>\n",
              "      <th>total_time</th>\n",
              "      <th>call_back_time</th>\n",
              "      <th>test_acc</th>\n",
              "      <th>test_loss</th>\n",
              "    </tr>\n",
              "  </thead>\n",
              "  <tbody>\n",
              "    <tr>\n",
              "      <th>0</th>\n",
              "      <td>1017.737229</td>\n",
              "      <td>[50.79330086708069, 51.06496453285217, 50.7370...</td>\n",
              "      <td>0.282209</td>\n",
              "      <td>2.238052</td>\n",
              "    </tr>\n",
              "    <tr>\n",
              "      <th>1</th>\n",
              "      <td>832.493008</td>\n",
              "      <td>[166.4247534275055, 167.53552055358887, 165.66...</td>\n",
              "      <td>0.127666</td>\n",
              "      <td>2.742303</td>\n",
              "    </tr>\n",
              "    <tr>\n",
              "      <th>2</th>\n",
              "      <td>3242.607175</td>\n",
              "      <td>[193.37805891036987, 192.74506759643555, 192.0...</td>\n",
              "      <td>0.347648</td>\n",
              "      <td>2.080754</td>\n",
              "    </tr>\n",
              "    <tr>\n",
              "      <th>3</th>\n",
              "      <td>3411.827751</td>\n",
              "      <td>[138.04171919822693, 136.71307635307312, 136.6...</td>\n",
              "      <td>0.345019</td>\n",
              "      <td>2.087663</td>\n",
              "    </tr>\n",
              "    <tr>\n",
              "      <th>4</th>\n",
              "      <td>5191.600757</td>\n",
              "      <td>[220.38252925872803, 219.19235801696777, 217.1...</td>\n",
              "      <td>0.347940</td>\n",
              "      <td>2.075830</td>\n",
              "    </tr>\n",
              "    <tr>\n",
              "      <th>5</th>\n",
              "      <td>1134.806807</td>\n",
              "      <td>[143.02283000946045, 141.81810975074768, 140.2...</td>\n",
              "      <td>0.335378</td>\n",
              "      <td>2.124702</td>\n",
              "    </tr>\n",
              "  </tbody>\n",
              "</table>\n",
              "</div>\n",
              "      <button class=\"colab-df-convert\" onclick=\"convertToInteractive('df-88e66f45-d821-4eeb-8446-d064845724e6')\"\n",
              "              title=\"Convert this dataframe to an interactive table.\"\n",
              "              style=\"display:none;\">\n",
              "        \n",
              "  <svg xmlns=\"http://www.w3.org/2000/svg\" height=\"24px\"viewBox=\"0 0 24 24\"\n",
              "       width=\"24px\">\n",
              "    <path d=\"M0 0h24v24H0V0z\" fill=\"none\"/>\n",
              "    <path d=\"M18.56 5.44l.94 2.06.94-2.06 2.06-.94-2.06-.94-.94-2.06-.94 2.06-2.06.94zm-11 1L8.5 8.5l.94-2.06 2.06-.94-2.06-.94L8.5 2.5l-.94 2.06-2.06.94zm10 10l.94 2.06.94-2.06 2.06-.94-2.06-.94-.94-2.06-.94 2.06-2.06.94z\"/><path d=\"M17.41 7.96l-1.37-1.37c-.4-.4-.92-.59-1.43-.59-.52 0-1.04.2-1.43.59L10.3 9.45l-7.72 7.72c-.78.78-.78 2.05 0 2.83L4 21.41c.39.39.9.59 1.41.59.51 0 1.02-.2 1.41-.59l7.78-7.78 2.81-2.81c.8-.78.8-2.07 0-2.86zM5.41 20L4 18.59l7.72-7.72 1.47 1.35L5.41 20z\"/>\n",
              "  </svg>\n",
              "      </button>\n",
              "      \n",
              "  <style>\n",
              "    .colab-df-container {\n",
              "      display:flex;\n",
              "      flex-wrap:wrap;\n",
              "      gap: 12px;\n",
              "    }\n",
              "\n",
              "    .colab-df-convert {\n",
              "      background-color: #E8F0FE;\n",
              "      border: none;\n",
              "      border-radius: 50%;\n",
              "      cursor: pointer;\n",
              "      display: none;\n",
              "      fill: #1967D2;\n",
              "      height: 32px;\n",
              "      padding: 0 0 0 0;\n",
              "      width: 32px;\n",
              "    }\n",
              "\n",
              "    .colab-df-convert:hover {\n",
              "      background-color: #E2EBFA;\n",
              "      box-shadow: 0px 1px 2px rgba(60, 64, 67, 0.3), 0px 1px 3px 1px rgba(60, 64, 67, 0.15);\n",
              "      fill: #174EA6;\n",
              "    }\n",
              "\n",
              "    [theme=dark] .colab-df-convert {\n",
              "      background-color: #3B4455;\n",
              "      fill: #D2E3FC;\n",
              "    }\n",
              "\n",
              "    [theme=dark] .colab-df-convert:hover {\n",
              "      background-color: #434B5C;\n",
              "      box-shadow: 0px 1px 3px 1px rgba(0, 0, 0, 0.15);\n",
              "      filter: drop-shadow(0px 1px 2px rgba(0, 0, 0, 0.3));\n",
              "      fill: #FFFFFF;\n",
              "    }\n",
              "  </style>\n",
              "\n",
              "      <script>\n",
              "        const buttonEl =\n",
              "          document.querySelector('#df-88e66f45-d821-4eeb-8446-d064845724e6 button.colab-df-convert');\n",
              "        buttonEl.style.display =\n",
              "          google.colab.kernel.accessAllowed ? 'block' : 'none';\n",
              "\n",
              "        async function convertToInteractive(key) {\n",
              "          const element = document.querySelector('#df-88e66f45-d821-4eeb-8446-d064845724e6');\n",
              "          const dataTable =\n",
              "            await google.colab.kernel.invokeFunction('convertToInteractive',\n",
              "                                                     [key], {});\n",
              "          if (!dataTable) return;\n",
              "\n",
              "          const docLinkHtml = 'Like what you see? Visit the ' +\n",
              "            '<a target=\"_blank\" href=https://colab.research.google.com/notebooks/data_table.ipynb>data table notebook</a>'\n",
              "            + ' to learn more about interactive tables.';\n",
              "          element.innerHTML = '';\n",
              "          dataTable['output_type'] = 'display_data';\n",
              "          await google.colab.output.renderOutput(dataTable, element);\n",
              "          const docLink = document.createElement('div');\n",
              "          docLink.innerHTML = docLinkHtml;\n",
              "          element.appendChild(docLink);\n",
              "        }\n",
              "      </script>\n",
              "    </div>\n",
              "  </div>\n",
              "  "
            ]
          },
          "metadata": {}
        }
      ]
    },
    {
      "cell_type": "code",
      "source": [
        "\n",
        "import scipy.stats\n",
        "acc = [0.215,0.139,0.409,0.3979,0.15,0.142,0.142,0.411,0.4099,0.406,0.41]\n",
        "areas=[101794,101152,281086,188079,103651,102575,102668,191994,113040,191472,176653]\n",
        "print(f\"np corrcoef: {np.corrcoef(acc,areas)[0,1]}\")\n",
        "print(f\"pearson: {scipy.stats.pearsonr(acc,areas)[0]}\")  # Pearson's r\n",
        "print(f\"spearman: {scipy.stats.spearmanr(acc,areas)[0]}\") # Spearman's rho\n",
        "\n"
      ],
      "metadata": {
        "colab": {
          "base_uri": "https://localhost:8080/"
        },
        "id": "K3aF9lSM3jNC",
        "outputId": "b1edccac-9880-462f-93a6-565a9b924678"
      },
      "execution_count": 194,
      "outputs": [
        {
          "output_type": "stream",
          "name": "stdout",
          "text": [
            "np corrcoef: 0.7603878273558714\n",
            "pearson: 0.7603878273558713\n",
            "spearman: 0.779045301358731\n"
          ]
        }
      ]
    },
    {
      "cell_type": "code",
      "source": [
        "plt.scatter(acc, areas)\n",
        "plt.show()"
      ],
      "metadata": {
        "colab": {
          "base_uri": "https://localhost:8080/",
          "height": 265
        },
        "id": "rCVQZ2oR71sx",
        "outputId": "4f524bca-0fa6-4692-b5b9-9ceb0f78f902"
      },
      "execution_count": 195,
      "outputs": [
        {
          "output_type": "display_data",
          "data": {
            "text/plain": [
              "<Figure size 432x288 with 1 Axes>"
            ],
            "image/png": "[encoded data removed]"
          },
          "metadata": {
            "needs_background": "light"
          }
        }
      ]
    },
    {
      "cell_type": "code",
      "source": [],
      "metadata": {
        "id": "z8VV_JS_D_JE"
      },
      "execution_count": null,
      "outputs": []
    }
  ]
}