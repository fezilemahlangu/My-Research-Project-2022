{
  "nbformat": 4,
  "nbformat_minor": 0,
  "metadata": {
    "colab": {
      "provenance": [],
      "authorship_tag": "ABX9TyNyY5lEDdNktIkAxsdgBecj",
      "include_colab_link": true
    },
    "kernelspec": {
      "name": "python3",
      "display_name": "Python 3"
    },
    "language_info": {
      "name": "python"
    }
  },
  "cells": [
    {
      "cell_type": "markdown",
      "metadata": {
        "id": "view-in-github",
        "colab_type": "text"
      },
      "source": [
        "<a href=\"https://colab.research.google.com/github/fezilemahlangu/My-Research-Project-2022/blob/main/AreaUnderCurve.ipynb\" target=\"_parent\"><img src=\"https://colab.research.google.com/assets/colab-badge.svg\" alt=\"Open In Colab\"/></a>"
      ]
    },
    {
      "cell_type": "code",
      "execution_count": 127,
      "metadata": {
        "id": "R1zhFeD3DzBG"
      },
      "outputs": [],
      "source": [
        "import numpy as np\n",
        "import pandas as pd \n",
        "import csv \n",
        "# import numpy as np\n",
        "import matplotlib.pyplot as plt\n",
        "from matplotlib.patches import Polygon\n",
        "\n",
        "import numpy as np\n",
        "from scipy.integrate import simpson\n",
        "from numpy import trapz\n",
        "from sklearn.metrics import auc\n",
        "\n",
        "https://www.mathsisfun.com/data/correlation-calculator.html\n"
      ]
    },
    {
      "cell_type": "code",
      "source": [
        "# The y values.  A numpy array is used here,\n",
        "# but a python list could also be used.\n",
        "x = [10, 20, 30, 40, 50, 60, 70, 100]\n",
        "\n",
        "y = [-2.3, 2.5, 2.7, 1.5, 1.6, 2.1, 2.2, 5.5]\n",
        "\n",
        "# y = np.array([5, 20, 4, 18, 19, 18, 7, 4])\n",
        "\n",
        "# Compute the area using the composite trapezoidal rule.\n",
        "area = trapz(x, y)\n",
        "print(\"area trapz =\", area)\n",
        "\n",
        "\n",
        "\n",
        "# Compute the area using the composite Simpson's rule.\n",
        "area = simpson(x, y)\n",
        "print(\"area simpson =\", area)"
      ],
      "metadata": {
        "colab": {
          "base_uri": "https://localhost:8080/"
        },
        "id": "Q0MyG3MCJOpP",
        "outputId": "e55401ee-def6-43e8-a877-1088311b6e65"
      },
      "execution_count": null,
      "outputs": [
        {
          "output_type": "stream",
          "name": "stdout",
          "text": [
            "area trapz = 354.0\n",
            "area simpson = 339.93686868686865\n"
          ]
        }
      ]
    },
    {
      "cell_type": "code",
      "source": [
        "import numpy as np\n",
        "from sklearn.metrics import auc\n",
        "\n",
        "x = [10, 20, 30, 40, 50, 60, 70, 100]\n",
        "\n",
        "y= [-2.3, 2.5, 2.7, 1.5, 1.6, 2.1, 2.2, 5.5]\n",
        "\n",
        "print('computed AUC using sklearn.metrics.auc: {}'.format(auc(x,y)))\n",
        "print('computed AUC using np.trapz: {}'.format(np.trapz(x,y)))"
      ],
      "metadata": {
        "colab": {
          "base_uri": "https://localhost:8080/"
        },
        "id": "A-IaXt3-J2ip",
        "outputId": "d51a79e2-f3fd-4107-b2aa-27473bdc55c9"
      },
      "execution_count": null,
      "outputs": [
        {
          "output_type": "stream",
          "name": "stdout",
          "text": [
            "computed AUC using sklearn.metrics.auc: 219.0\n",
            "computed AUC using np.trapz: 354.0\n"
          ]
        }
      ]
    },
    {
      "cell_type": "code",
      "source": [
        "df_models = pd.read_csv('models_phase2.csv')\n",
        "display(df_models)\n",
        "\n",
        "df_rewards = pd.read_csv('results_phase2.csv')\n",
        "display(df_rewards)"
      ],
      "metadata": {
        "id": "h9UkGSAPL9RF",
        "colab": {
          "base_uri": "https://localhost:8080/",
          "height": 583
        },
        "outputId": "eadb7e18-def7-43b9-c0f9-84899c485074"
      },
      "execution_count": 4,
      "outputs": [
        {
          "output_type": "display_data",
          "data": {
            "text/plain": [
              "                                              models\n",
              "0     [[16, 1, 1, 2, 0.05, 32, 0.05, 0.001], [], []]\n",
              "1    [[16, 8, 1, 2, 0.05, 128, 0.1, 0.0001], [], []]\n",
              "2    [[16, 3, 1, 2, 0.05, 128, 0.25, 1e-05], [], []]\n",
              "3  [[32, 3, 1, 2, 0.05, 256, 0.05, 0.0001], [32, ...\n",
              "4  [[16, 5, 1, 2, 0.05, 128, 0.05, 0.01], [16, 7,...\n",
              "5  [[16, 7, 1, 2, 0.05, 256, 0.05, 0.003], [32, 3...\n",
              "6  [[16, 7, 4, 1, 0.05, 256, 0.05, 0.001], [32, 4...\n",
              "7  [[32, 8, 4, 1, 0.05, 256, 0.05, 0.1], [64, 4, ..."
            ],
            "text/html": [
              "\n",
              "  <div id=\"df-9a9a4746-5df9-4c85-b971-4cdc64668dd1\">\n",
              "    <div class=\"colab-df-container\">\n",
              "      <div>\n",
              "<style scoped>\n",
              "    .dataframe tbody tr th:only-of-type {\n",
              "        vertical-align: middle;\n",
              "    }\n",
              "\n",
              "    .dataframe tbody tr th {\n",
              "        vertical-align: top;\n",
              "    }\n",
              "\n",
              "    .dataframe thead th {\n",
              "        text-align: right;\n",
              "    }\n",
              "</style>\n",
              "<table border=\"1\" class=\"dataframe\">\n",
              "  <thead>\n",
              "    <tr style=\"text-align: right;\">\n",
              "      <th></th>\n",
              "      <th>models</th>\n",
              "    </tr>\n",
              "  </thead>\n",
              "  <tbody>\n",
              "    <tr>\n",
              "      <th>0</th>\n",
              "      <td>[[16, 1, 1, 2, 0.05, 32, 0.05, 0.001], [], []]</td>\n",
              "    </tr>\n",
              "    <tr>\n",
              "      <th>1</th>\n",
              "      <td>[[16, 8, 1, 2, 0.05, 128, 0.1, 0.0001], [], []]</td>\n",
              "    </tr>\n",
              "    <tr>\n",
              "      <th>2</th>\n",
              "      <td>[[16, 3, 1, 2, 0.05, 128, 0.25, 1e-05], [], []]</td>\n",
              "    </tr>\n",
              "    <tr>\n",
              "      <th>3</th>\n",
              "      <td>[[32, 3, 1, 2, 0.05, 256, 0.05, 0.0001], [32, ...</td>\n",
              "    </tr>\n",
              "    <tr>\n",
              "      <th>4</th>\n",
              "      <td>[[16, 5, 1, 2, 0.05, 128, 0.05, 0.01], [16, 7,...</td>\n",
              "    </tr>\n",
              "    <tr>\n",
              "      <th>5</th>\n",
              "      <td>[[16, 7, 1, 2, 0.05, 256, 0.05, 0.003], [32, 3...</td>\n",
              "    </tr>\n",
              "    <tr>\n",
              "      <th>6</th>\n",
              "      <td>[[16, 7, 4, 1, 0.05, 256, 0.05, 0.001], [32, 4...</td>\n",
              "    </tr>\n",
              "    <tr>\n",
              "      <th>7</th>\n",
              "      <td>[[32, 8, 4, 1, 0.05, 256, 0.05, 0.1], [64, 4, ...</td>\n",
              "    </tr>\n",
              "  </tbody>\n",
              "</table>\n",
              "</div>\n",
              "      <button class=\"colab-df-convert\" onclick=\"convertToInteractive('df-9a9a4746-5df9-4c85-b971-4cdc64668dd1')\"\n",
              "              title=\"Convert this dataframe to an interactive table.\"\n",
              "              style=\"display:none;\">\n",
              "        \n",
              "  <svg xmlns=\"http://www.w3.org/2000/svg\" height=\"24px\"viewBox=\"0 0 24 24\"\n",
              "       width=\"24px\">\n",
              "    <path d=\"M0 0h24v24H0V0z\" fill=\"none\"/>\n",
              "    <path d=\"M18.56 5.44l.94 2.06.94-2.06 2.06-.94-2.06-.94-.94-2.06-.94 2.06-2.06.94zm-11 1L8.5 8.5l.94-2.06 2.06-.94-2.06-.94L8.5 2.5l-.94 2.06-2.06.94zm10 10l.94 2.06.94-2.06 2.06-.94-2.06-.94-.94-2.06-.94 2.06-2.06.94z\"/><path d=\"M17.41 7.96l-1.37-1.37c-.4-.4-.92-.59-1.43-.59-.52 0-1.04.2-1.43.59L10.3 9.45l-7.72 7.72c-.78.78-.78 2.05 0 2.83L4 21.41c.39.39.9.59 1.41.59.51 0 1.02-.2 1.41-.59l7.78-7.78 2.81-2.81c.8-.78.8-2.07 0-2.86zM5.41 20L4 18.59l7.72-7.72 1.47 1.35L5.41 20z\"/>\n",
              "  </svg>\n",
              "      </button>\n",
              "      \n",
              "  <style>\n",
              "    .colab-df-container {\n",
              "      display:flex;\n",
              "      flex-wrap:wrap;\n",
              "      gap: 12px;\n",
              "    }\n",
              "\n",
              "    .colab-df-convert {\n",
              "      background-color: #E8F0FE;\n",
              "      border: none;\n",
              "      border-radius: 50%;\n",
              "      cursor: pointer;\n",
              "      display: none;\n",
              "      fill: #1967D2;\n",
              "      height: 32px;\n",
              "      padding: 0 0 0 0;\n",
              "      width: 32px;\n",
              "    }\n",
              "\n",
              "    .colab-df-convert:hover {\n",
              "      background-color: #E2EBFA;\n",
              "      box-shadow: 0px 1px 2px rgba(60, 64, 67, 0.3), 0px 1px 3px 1px rgba(60, 64, 67, 0.15);\n",
              "      fill: #174EA6;\n",
              "    }\n",
              "\n",
              "    [theme=dark] .colab-df-convert {\n",
              "      background-color: #3B4455;\n",
              "      fill: #D2E3FC;\n",
              "    }\n",
              "\n",
              "    [theme=dark] .colab-df-convert:hover {\n",
              "      background-color: #434B5C;\n",
              "      box-shadow: 0px 1px 3px 1px rgba(0, 0, 0, 0.15);\n",
              "      filter: drop-shadow(0px 1px 2px rgba(0, 0, 0, 0.3));\n",
              "      fill: #FFFFFF;\n",
              "    }\n",
              "  </style>\n",
              "\n",
              "      <script>\n",
              "        const buttonEl =\n",
              "          document.querySelector('#df-9a9a4746-5df9-4c85-b971-4cdc64668dd1 button.colab-df-convert');\n",
              "        buttonEl.style.display =\n",
              "          google.colab.kernel.accessAllowed ? 'block' : 'none';\n",
              "\n",
              "        async function convertToInteractive(key) {\n",
              "          const element = document.querySelector('#df-9a9a4746-5df9-4c85-b971-4cdc64668dd1');\n",
              "          const dataTable =\n",
              "            await google.colab.kernel.invokeFunction('convertToInteractive',\n",
              "                                                     [key], {});\n",
              "          if (!dataTable) return;\n",
              "\n",
              "          const docLinkHtml = 'Like what you see? Visit the ' +\n",
              "            '<a target=\"_blank\" href=https://colab.research.google.com/notebooks/data_table.ipynb>data table notebook</a>'\n",
              "            + ' to learn more about interactive tables.';\n",
              "          element.innerHTML = '';\n",
              "          dataTable['output_type'] = 'display_data';\n",
              "          await google.colab.output.renderOutput(dataTable, element);\n",
              "          const docLink = document.createElement('div');\n",
              "          docLink.innerHTML = docLinkHtml;\n",
              "          element.appendChild(docLink);\n",
              "        }\n",
              "      </script>\n",
              "    </div>\n",
              "  </div>\n",
              "  "
            ]
          },
          "metadata": {}
        },
        {
          "output_type": "display_data",
          "data": {
            "text/plain": [
              "                                             rewards\n",
              "0  [16.67, 13.68, 14.48, 14.87, 15.92, 13.9, 13.4...\n",
              "1  [24.44, 25.79, 23.1, 22.05, 24.9, 23.39, 23.62...\n",
              "2  [25.56, 25.79, 23.1, 20.26, 19.39, 20.0, 19.28...\n",
              "3  [22.22, 16.32, 14.14, 15.9, 16.73, 16.44, 17.1...\n",
              "4  [23.33, 26.32, 20.34, 22.05, 21.22, 19.66, 18....\n",
              "5  [17.78, 20.53, 20.34, 21.79, 19.8, 19.49, 19.4...\n",
              "6  [24.44, 20.53, 18.62, 16.92, 16.12, 16.1, 16.3...\n",
              "7  [25.56, 18.95, 21.03, 22.31, 19.59, 20.34, 19...."
            ],
            "text/html": [
              "\n",
              "  <div id=\"df-6f158956-0f9d-4bc9-89c6-a455e0cf0f1c\">\n",
              "    <div class=\"colab-df-container\">\n",
              "      <div>\n",
              "<style scoped>\n",
              "    .dataframe tbody tr th:only-of-type {\n",
              "        vertical-align: middle;\n",
              "    }\n",
              "\n",
              "    .dataframe tbody tr th {\n",
              "        vertical-align: top;\n",
              "    }\n",
              "\n",
              "    .dataframe thead th {\n",
              "        text-align: right;\n",
              "    }\n",
              "</style>\n",
              "<table border=\"1\" class=\"dataframe\">\n",
              "  <thead>\n",
              "    <tr style=\"text-align: right;\">\n",
              "      <th></th>\n",
              "      <th>rewards</th>\n",
              "    </tr>\n",
              "  </thead>\n",
              "  <tbody>\n",
              "    <tr>\n",
              "      <th>0</th>\n",
              "      <td>[16.67, 13.68, 14.48, 14.87, 15.92, 13.9, 13.4...</td>\n",
              "    </tr>\n",
              "    <tr>\n",
              "      <th>1</th>\n",
              "      <td>[24.44, 25.79, 23.1, 22.05, 24.9, 23.39, 23.62...</td>\n",
              "    </tr>\n",
              "    <tr>\n",
              "      <th>2</th>\n",
              "      <td>[25.56, 25.79, 23.1, 20.26, 19.39, 20.0, 19.28...</td>\n",
              "    </tr>\n",
              "    <tr>\n",
              "      <th>3</th>\n",
              "      <td>[22.22, 16.32, 14.14, 15.9, 16.73, 16.44, 17.1...</td>\n",
              "    </tr>\n",
              "    <tr>\n",
              "      <th>4</th>\n",
              "      <td>[23.33, 26.32, 20.34, 22.05, 21.22, 19.66, 18....</td>\n",
              "    </tr>\n",
              "    <tr>\n",
              "      <th>5</th>\n",
              "      <td>[17.78, 20.53, 20.34, 21.79, 19.8, 19.49, 19.4...</td>\n",
              "    </tr>\n",
              "    <tr>\n",
              "      <th>6</th>\n",
              "      <td>[24.44, 20.53, 18.62, 16.92, 16.12, 16.1, 16.3...</td>\n",
              "    </tr>\n",
              "    <tr>\n",
              "      <th>7</th>\n",
              "      <td>[25.56, 18.95, 21.03, 22.31, 19.59, 20.34, 19....</td>\n",
              "    </tr>\n",
              "  </tbody>\n",
              "</table>\n",
              "</div>\n",
              "      <button class=\"colab-df-convert\" onclick=\"convertToInteractive('df-6f158956-0f9d-4bc9-89c6-a455e0cf0f1c')\"\n",
              "              title=\"Convert this dataframe to an interactive table.\"\n",
              "              style=\"display:none;\">\n",
              "        \n",
              "  <svg xmlns=\"http://www.w3.org/2000/svg\" height=\"24px\"viewBox=\"0 0 24 24\"\n",
              "       width=\"24px\">\n",
              "    <path d=\"M0 0h24v24H0V0z\" fill=\"none\"/>\n",
              "    <path d=\"M18.56 5.44l.94 2.06.94-2.06 2.06-.94-2.06-.94-.94-2.06-.94 2.06-2.06.94zm-11 1L8.5 8.5l.94-2.06 2.06-.94-2.06-.94L8.5 2.5l-.94 2.06-2.06.94zm10 10l.94 2.06.94-2.06 2.06-.94-2.06-.94-.94-2.06-.94 2.06-2.06.94z\"/><path d=\"M17.41 7.96l-1.37-1.37c-.4-.4-.92-.59-1.43-.59-.52 0-1.04.2-1.43.59L10.3 9.45l-7.72 7.72c-.78.78-.78 2.05 0 2.83L4 21.41c.39.39.9.59 1.41.59.51 0 1.02-.2 1.41-.59l7.78-7.78 2.81-2.81c.8-.78.8-2.07 0-2.86zM5.41 20L4 18.59l7.72-7.72 1.47 1.35L5.41 20z\"/>\n",
              "  </svg>\n",
              "      </button>\n",
              "      \n",
              "  <style>\n",
              "    .colab-df-container {\n",
              "      display:flex;\n",
              "      flex-wrap:wrap;\n",
              "      gap: 12px;\n",
              "    }\n",
              "\n",
              "    .colab-df-convert {\n",
              "      background-color: #E8F0FE;\n",
              "      border: none;\n",
              "      border-radius: 50%;\n",
              "      cursor: pointer;\n",
              "      display: none;\n",
              "      fill: #1967D2;\n",
              "      height: 32px;\n",
              "      padding: 0 0 0 0;\n",
              "      width: 32px;\n",
              "    }\n",
              "\n",
              "    .colab-df-convert:hover {\n",
              "      background-color: #E2EBFA;\n",
              "      box-shadow: 0px 1px 2px rgba(60, 64, 67, 0.3), 0px 1px 3px 1px rgba(60, 64, 67, 0.15);\n",
              "      fill: #174EA6;\n",
              "    }\n",
              "\n",
              "    [theme=dark] .colab-df-convert {\n",
              "      background-color: #3B4455;\n",
              "      fill: #D2E3FC;\n",
              "    }\n",
              "\n",
              "    [theme=dark] .colab-df-convert:hover {\n",
              "      background-color: #434B5C;\n",
              "      box-shadow: 0px 1px 3px 1px rgba(0, 0, 0, 0.15);\n",
              "      filter: drop-shadow(0px 1px 2px rgba(0, 0, 0, 0.3));\n",
              "      fill: #FFFFFF;\n",
              "    }\n",
              "  </style>\n",
              "\n",
              "      <script>\n",
              "        const buttonEl =\n",
              "          document.querySelector('#df-6f158956-0f9d-4bc9-89c6-a455e0cf0f1c button.colab-df-convert');\n",
              "        buttonEl.style.display =\n",
              "          google.colab.kernel.accessAllowed ? 'block' : 'none';\n",
              "\n",
              "        async function convertToInteractive(key) {\n",
              "          const element = document.querySelector('#df-6f158956-0f9d-4bc9-89c6-a455e0cf0f1c');\n",
              "          const dataTable =\n",
              "            await google.colab.kernel.invokeFunction('convertToInteractive',\n",
              "                                                     [key], {});\n",
              "          if (!dataTable) return;\n",
              "\n",
              "          const docLinkHtml = 'Like what you see? Visit the ' +\n",
              "            '<a target=\"_blank\" href=https://colab.research.google.com/notebooks/data_table.ipynb>data table notebook</a>'\n",
              "            + ' to learn more about interactive tables.';\n",
              "          element.innerHTML = '';\n",
              "          dataTable['output_type'] = 'display_data';\n",
              "          await google.colab.output.renderOutput(dataTable, element);\n",
              "          const docLink = document.createElement('div');\n",
              "          docLink.innerHTML = docLinkHtml;\n",
              "          element.appendChild(docLink);\n",
              "        }\n",
              "      </script>\n",
              "    </div>\n",
              "  </div>\n",
              "  "
            ]
          },
          "metadata": {}
        }
      ]
    },
    {
      "cell_type": "code",
      "source": [],
      "metadata": {
        "colab": {
          "base_uri": "https://localhost:8080/"
        },
        "id": "EaJAQwlNpuVx",
        "outputId": "4193547a-8158-4b7e-c307-aeb9e1bfe057"
      },
      "execution_count": 84,
      "outputs": [
        {
          "output_type": "execute_result",
          "data": {
            "text/plain": [
              "882"
            ]
          },
          "metadata": {},
          "execution_count": 84
        }
      ]
    },
    {
      "cell_type": "code",
      "source": [
        "# array = df_rewards.to_records(index=False)\n",
        "# r = array['rewards']"
      ],
      "metadata": {
        "id": "MlX7TujgmZ-8"
      },
      "execution_count": 26,
      "outputs": []
    },
    {
      "cell_type": "code",
      "source": [
        "first = df_rewards['rewards'][6]\n",
        "first = first[1:]\n",
        "first = first[:len(first)-1]\n",
        "first = first.split(\",\")\n",
        "first[0]\n",
        "for i in range(len(first)):\n",
        "  first[i] = float(first[i])\n",
        "# first\n",
        "l = len(first)\n",
        "# l=800\n",
        "x = [i for i in range(1,l+1)]\n",
        "len(x)\n",
        "\n",
        "y = first[:l]\n",
        "len(y)\n",
        "area = trapz(x, y)\n",
        "print(\"area trapz =\", area)\n",
        "\n",
        "\n",
        "# Compute the area using the composite Simpson's rule.\n",
        "area = simpson(x, y)\n",
        "print(\"area simpson =\", area)\n",
        "\n",
        "\n",
        "print('computed AUC using sklearn.metrics.auc: {}'.format(auc(x,y)))"
      ],
      "metadata": {
        "colab": {
          "base_uri": "https://localhost:8080/"
        },
        "id": "ORmLcvQkqsJL",
        "outputId": "f3348f0a-ae63-4372-8b10-ce99002abc33"
      },
      "execution_count": 140,
      "outputs": [
        {
          "output_type": "stream",
          "name": "stdout",
          "text": [
            "area trapz = -1281.3200000000027\n",
            "area simpson = nan\n",
            "computed AUC using sklearn.metrics.auc: 12642.98\n"
          ]
        }
      ]
    },
    {
      "cell_type": "code",
      "source": [],
      "metadata": {
        "colab": {
          "base_uri": "https://localhost:8080/"
        },
        "id": "x3nxfLZApgJl",
        "outputId": "d1abe207-ae6d-480c-94b7-d98eedd3d872"
      },
      "execution_count": 116,
      "outputs": [
        {
          "output_type": "stream",
          "name": "stdout",
          "text": [
            "area trapz = 492.82499999999345\n",
            "area simpson = nan\n"
          ]
        }
      ]
    },
    {
      "cell_type": "code",
      "source": [],
      "metadata": {
        "id": "RiqTV-89qHte"
      },
      "execution_count": null,
      "outputs": []
    }
  ]
}